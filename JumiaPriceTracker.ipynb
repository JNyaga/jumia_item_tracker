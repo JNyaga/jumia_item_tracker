{
 "cells": [
  {
   "cell_type": "markdown",
   "id": "69f96ebf",
   "metadata": {},
   "source": [
    "#  App That Tracks Jumia Prices!\n",
    " this program can track the specific pricemof an item from jumia"
   ]
  },
  {
   "cell_type": "code",
   "execution_count": 1,
   "id": "33d10a85",
   "metadata": {},
   "outputs": [],
   "source": [
    "import requests\n",
    "from bs4 import BeautifulSoup\n",
    "import smtplib\n",
    "import time"
   ]
  },
  {
   "cell_type": "code",
   "execution_count": 2,
   "id": "f9deb6cb",
   "metadata": {},
   "outputs": [],
   "source": [
    "URL= 'https://www.jumia.co.ke/xiaomi-redmi-9a-6.53-2gb32gb-13.0mp-5000mah-4g-lte-dual-sim-grey-30887170.html'\n",
    "headers={'User-Agent':'Mozilla/5.0 (Windows NT 10.0; Win64; x64) AppleWebKit/537.36 (KHTML, like Gecko) Chrome/96.0.4664.45 Safari/537.36'}"
   ]
  },
  {
   "cell_type": "code",
   "execution_count": 3,
   "id": "6fbad8cc",
   "metadata": {
    "scrolled": true
   },
   "outputs": [],
   "source": [
    "page= requests.get(URL, headers= headers)\n",
    "\n",
    "soup= BeautifulSoup(page.content,'html.parser')\n"
   ]
  },
  {
   "cell_type": "code",
   "execution_count": 9,
   "id": "c3b2c76c",
   "metadata": {},
   "outputs": [
    {
     "data": {
      "text/plain": [
       "9499.0"
      ]
     },
     "execution_count": 9,
     "metadata": {},
     "output_type": "execute_result"
    }
   ],
   "source": [
    "# use class_ to get css class\n",
    "title= soup.find(class_=\"-fs20 -pts -pbxs\").get_text()\n",
    "price= soup.find(class_=\"-b -ltr -tal -fs24\").get_text()\n",
    "#convert price to float and removing the commma\n",
    "converted_price = float(price[4:].replace(',',''))\n",
    "converted_price\n"
   ]
  },
  {
   "cell_type": "code",
   "execution_count": 5,
   "id": "2cb4fdca",
   "metadata": {},
   "outputs": [],
   "source": [
    "#define fuctions to use to send mail\n",
    "def send_mail():\n",
    "    URL= 'https://www.jumia.co.ke/xiaomi-redmi-9a-6.53-2gb32gb-13.0mp-5000mah-4g-lte-dual-sim-grey-30887170.html'\n",
    "    server= smtplib.SMTP('smtp.gmail.com', 587)\n",
    "    server.ehlo()\n",
    "    server.starttls()\n",
    "    server.ehlo()\n",
    "    server.login('joelnyagamuriithi@gmail.com', 'qmcxewoeqkbyqsvw')\n",
    "    subject= 'Price Fell Down!'\n",
    "    body= f'check the link {URL}'\n",
    "    msg= f'Subject: {subject}\\n\\n{body}'\n",
    "    server.sendmail(\n",
    "        'joelnyagamuriithi@gmail.com',\n",
    "        'nyagajoelmuriithi@gmail.com',\n",
    "         msg\n",
    "    )\n",
    "    print('SENT MESSAGE')\n",
    "    server.quit()\n"
   ]
  },
  {
   "cell_type": "code",
   "execution_count": 8,
   "id": "66087bc9",
   "metadata": {},
   "outputs": [],
   "source": [
    "if converted_price< 8000.0:\n",
    "    send_mail()"
   ]
  },
  {
   "cell_type": "markdown",
   "id": "4cf2366e",
   "metadata": {},
   "source": [
    "# Below is the program to find all class in a URL.(test program)\n",
    "from bs4 import BeautifulSoup\n",
    "import requests\n",
    "  \n",
    "## Website URL\n",
    "URL = 'https://www.geeksforgeeks.org/'\n",
    "  \n",
    "## class list set\n",
    "class_list = set()\n",
    "  \n",
    "## Page content from Website URL\n",
    "page = requests.get( URL )\n",
    "  \n",
    "## parse html content\n",
    "soup = BeautifulSoup( page.content , 'html.parser')\n",
    "  \n",
    "## get all tags\n",
    "tags = {tag.name for tag in soup.find_all()}\n",
    "tags\n",
    "for tag in tags:\n",
    "  \n",
    "    # find all element of tag\n",
    "    for i in soup.find_all( tag ):\n",
    "##         print(i.attrs)\n",
    "        # if tag has attribute of class\n",
    "        if i.has_attr( \"class\" ):\n",
    "  \n",
    "            if len( i['class'] ) != 0:\n",
    "                class_list.add(\" \".join( i['class']))\n",
    "class_list\n",
    "  \n"
   ]
  }
 ],
 "metadata": {
  "kernelspec": {
   "display_name": "Python 3",
   "language": "python",
   "name": "python3"
  },
  "language_info": {
   "codemirror_mode": {
    "name": "ipython",
    "version": 3
   },
   "file_extension": ".py",
   "mimetype": "text/x-python",
   "name": "python",
   "nbconvert_exporter": "python",
   "pygments_lexer": "ipython3",
   "version": "3.8.8"
  },
  "widgets": {
   "application/vnd.jupyter.widget-state+json": {
    "state": {},
    "version_major": 2,
    "version_minor": 0
   }
  }
 },
 "nbformat": 4,
 "nbformat_minor": 5
}
