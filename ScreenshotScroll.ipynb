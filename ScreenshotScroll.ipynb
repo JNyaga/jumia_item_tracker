{
 "cells": [
  {
   "cell_type": "markdown",
   "metadata": {},
   "source": [
    "## Get Data from webpage and Screen shot using Selenium"
   ]
  },
  {
   "cell_type": "code",
   "execution_count": 2,
   "metadata": {},
   "outputs": [],
   "source": [
    "from selenium import webdriver\n",
    "from selenium.webdriver.common.by import By\n",
    "from PIL import Image\n",
    "from io import BytesIO\n",
    "import os\n",
    "\n",
    "import time\n",
    "\n",
    "URL ='''https://medium.com/sysf/\n",
    "bash-scripting-everything-you-need-to-\n",
    "know-about-bash-shell-programming-cd08595f2fba'''\n",
    "driver = webdriver.Chrome()\n",
    "driver.get(URL)\n",
    "time.sleep(10)\n",
    "driver.maximize_window()\n",
    "# Remove obstructing div\n",
    "removeDiv = driver.find_element(By.XPATH,'''//*[@id=\\\"root\\\"]/div/div[3]\n",
    "                                /div/div/main/div/div[3]/div[3]/div''')\n",
    "driver.execute_script(\"\"\"\n",
    "var element = arguments[0];\n",
    "element.parentNode.removeChild(element);\n",
    "\"\"\", removeDiv)\n",
    "\n",
    "\n",
    "# Get scroll height\n",
    "first_height= 0\n",
    "last_height = driver.execute_script(\"return document.body.scrollHeight\")\n",
    "time.sleep(5)\n",
    "countScroll=0\n",
    "# png=driver.get_screenshot_as_png()\n",
    "\n",
    "# while True:\n",
    "#     name= os.path.join(os.path.dirname(os.path.realpath(\"./IMDB_reviews.ipynb\")), 'Screenshots',f'screen{countScroll}.png')\n",
    "#     driver.save_screenshot(name)\n",
    "#     # driver.save_screenshot(f'screenshots/screen{countScroll}.png')\n",
    "#     driver.execute_script(\"window.scrollBy(0, window.innerHeight);\")\n",
    "#     first_height+=driver.execute_script(\"return window.innerHeight\")\n",
    "#     countScroll+=1\n",
    "#     time.sleep(10)\n",
    "#     if first_height>=last_height:\n",
    "#         break"
   ]
  },
  {
   "cell_type": "markdown",
   "metadata": {},
   "source": [
    "## Crop out Unwanted section using PIL module\n",
    "`from PIL import Image`"
   ]
  },
  {
   "cell_type": "code",
   "execution_count": null,
   "metadata": {},
   "outputs": [],
   "source": [
    "# im = Image.open(BytesIO(png))\n",
    "# im.save('screenshot.png')\n",
    "import os\n",
    "  \n",
    "# Get the list of all files and directories\n",
    "# in the root directory\n",
    "# path = \"/\"\n",
    "dir_list = os.listdir(\"./Screenshots\")\n",
    "\n",
    "for i in range(len(dir_list)):\n",
    "    im = Image.open(f'./Screenshots/screen{i}.png') \n",
    "    im = im.crop((76,0, 948, 609))\n",
    "    im.save(f'./Screenshotscrop/screen{i}.png')"
   ]
  },
  {
   "cell_type": "markdown",
   "metadata": {},
   "source": [
    "## Convert images to pDF using PIL"
   ]
  },
  {
   "cell_type": "code",
   "execution_count": 3,
   "metadata": {},
   "outputs": [],
   "source": [
    "import os\n",
    "from PIL import Image\n",
    "import re\n",
    "\n",
    "#Open leading img\n",
    "img1 = Image.open('./Screenshotscrop/screen0.png')\n",
    "#You must convert from RGBA to RGB to be able to get pDF \n",
    "img1=img1.convert(\"RGB\")\n",
    "#open the rest of images\n",
    "img_list = os.listdir(\"./Screenshotscrop\")[1:]\n",
    "\n",
    "#the above comand distorts the order of file we need to sort them\n",
    "def atoi(text):\n",
    "    return int(text) if text.isdigit() else text\n",
    "\n",
    "def natural_keys(text):\n",
    "    '''\n",
    "    alist.sort(key=natural_keys) sorts in human order\n",
    "    '''\n",
    "    # '\\d+' denotes Numeric Characters or group of characters\n",
    "    return [ atoi(c) for c in re.split(r'(\\d+)', text) ]\n",
    "# img_list.sort(key= natural_keys)\n",
    "imgListsorted = sorted(img_list, key=natural_keys)\n",
    "\n",
    "    \n",
    "imgListOpened = [Image.open(f\"./Screenshotscrop/{img}\") for img in imgListsorted]\n",
    "imgList_convert= [img.convert(\"RGB\") for img in imgListOpened]\n",
    "# img.save(\"bash.pdf\",\"PDF\", resolution=100.0)\n",
    "img1.save(\"bash.pdf\",\"PDF\", resolution=100.0,save_all=True, append_images=imgList_convert)\n",
    "\n"
   ]
  },
  {
   "cell_type": "code",
   "execution_count": null,
   "metadata": {},
   "outputs": [],
   "source": [
    "import img2pdf\n",
    "with open(\"bash2.pdf\",\"wb\") as f:\n",
    "    img_list2= [f\"./Screenshotscrop/{img}\" for img in imgListsorted]\n",
    "    f.write(img2pdf.convert(img_list2))"
   ]
  }
 ],
 "metadata": {
  "kernelspec": {
   "display_name": "Python 3.8.8 ('base')",
   "language": "python",
   "name": "python3"
  },
  "language_info": {
   "codemirror_mode": {
    "name": "ipython",
    "version": 3
   },
   "file_extension": ".py",
   "mimetype": "text/x-python",
   "name": "python",
   "nbconvert_exporter": "python",
   "pygments_lexer": "ipython3",
   "version": "3.8.8"
  },
  "orig_nbformat": 4,
  "vscode": {
   "interpreter": {
    "hash": "185416642dc7c7c5e781f0b980cfdc399d020e975ba7c5a86c3147036604a34a"
   }
  }
 },
 "nbformat": 4,
 "nbformat_minor": 2
}
