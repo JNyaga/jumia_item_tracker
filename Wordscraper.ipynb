{
 "cells": [
  {
   "cell_type": "markdown",
   "metadata": {},
   "source": [
    "## Word Frequency counter"
   ]
  },
  {
   "cell_type": "code",
   "execution_count": 47,
   "metadata": {},
   "outputs": [
    {
     "data": {
      "text/plain": [
       "'Sign up for cybersecurity newsletter and get latest news updates delivered straight to your inbox daily.'"
      ]
     },
     "execution_count": 47,
     "metadata": {},
     "output_type": "execute_result"
    }
   ],
   "source": [
    "import requests\n",
    "from bs4 import BeautifulSoup\n",
    "# rest api\n",
    "#get, post , put , delete\n",
    "source_code = requests.get(\"https://thehackernews.com/\")\n",
    "soup = BeautifulSoup(source_code.text, \"html.parser\")\n",
    "\n",
    "# listOfh2= soup.find_all(\"h2\")\n",
    "# listOfh2[0].text\n",
    "p_tag = soup.find_all('p')[0].text\n",
    "print(p_tag)"
   ]
  },
  {
   "cell_type": "code",
   "execution_count": null,
   "metadata": {},
   "outputs": [],
   "source": [
    "axios = requests.get(\"https://www.npmjs.com/package/axios#example\")\n",
    "axios_soup = BeautifulSoup(axios.text, \"html.parser\")\n",
    "axios_soup.find_all(class_=\"anchor\")"
   ]
  },
  {
   "cell_type": "code",
   "execution_count": 51,
   "metadata": {},
   "outputs": [
    {
     "data": {
      "text/plain": [
       "[1, 11, 21, 31, 41, 51, 61, 71, 81, 91]"
      ]
     },
     "execution_count": 51,
     "metadata": {},
     "output_type": "execute_result"
    }
   ],
   "source": [
    "def is_odd_list(l):\n",
    "    return [x for x in l if x%2!=0]\n",
    "\n",
    "odd_l= is_odd_list(list(range(1,100,5)))\n",
    "odd_l"
   ]
  },
  {
   "cell_type": "code",
   "execution_count": 99,
   "metadata": {},
   "outputs": [
    {
     "data": {
      "text/plain": [
       "(array([0, 1, 2, 3]), 1000, 507)"
      ]
     },
     "execution_count": 99,
     "metadata": {},
     "output_type": "execute_result"
    }
   ],
   "source": [
    "five = lambda  : 5\n",
    "five()\n",
    "\n"
   ]
  },
  {
   "cell_type": "code",
   "execution_count": 108,
   "metadata": {},
   "outputs": [],
   "source": [
    "a = { 'id': 89, 'name': \"John\", 'projects': [1, 2, 3, 4] }\n",
    "a.get('projects')[3]\n",
    "a.get('projects')\n",
    "a.get('age')"
   ]
  }
 ],
 "metadata": {
  "kernelspec": {
   "display_name": "Python 3.8.8 ('base')",
   "language": "python",
   "name": "python3"
  },
  "language_info": {
   "codemirror_mode": {
    "name": "ipython",
    "version": 3
   },
   "file_extension": ".py",
   "mimetype": "text/x-python",
   "name": "python",
   "nbconvert_exporter": "python",
   "pygments_lexer": "ipython3",
   "version": "3.8.8"
  },
  "orig_nbformat": 4,
  "vscode": {
   "interpreter": {
    "hash": "185416642dc7c7c5e781f0b980cfdc399d020e975ba7c5a86c3147036604a34a"
   }
  }
 },
 "nbformat": 4,
 "nbformat_minor": 2
}
