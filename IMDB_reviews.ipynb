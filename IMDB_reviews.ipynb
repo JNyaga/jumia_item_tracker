{
 "cells": [
  {
   "cell_type": "code",
   "execution_count": 8,
   "metadata": {},
   "outputs": [],
   "source": [
    "from bs4 import BeautifulSoup\n",
    "import requests\n"
   ]
  },
  {
   "cell_type": "code",
   "execution_count": 2,
   "metadata": {},
   "outputs": [],
   "source": [
    "URL= 'https://www.imdb.com/title/tt7366338/reviews?ref_=tt_urv'\n",
    "headers={'User-Agent':'Mozilla/5.0 (Windows NT 10.0; Win64; x64) AppleWebKit/537.36 (KHTML, like Gecko) Chrome/96.0.4664.45 Safari/537.36'}\n",
    "\n",
    "\n",
    "page= requests.get(URL, headers= headers)\n",
    "\n",
    "soup= BeautifulSoup(page.content,'html.parser')\n"
   ]
  },
  {
   "cell_type": "code",
   "execution_count": 13,
   "metadata": {},
   "outputs": [
    {
     "data": {
      "text/plain": [
       "(1,\n",
       " [<button class=\"ipl-load-more__button\" data-target-container=\"reviews-container\" id=\"load-more-trigger\">Load More</button>])"
      ]
     },
     "execution_count": 13,
     "metadata": {},
     "output_type": "execute_result"
    }
   ],
   "source": [
    "span = soup.find_all(\"button\", class_=\"ipl-load-more__button\")\n",
    "len(span),span"
   ]
  },
  {
   "cell_type": "code",
   "execution_count": null,
   "metadata": {},
   "outputs": [],
   "source": [
    "from selenium import webdriver\n",
    "from selenium.webdriver.common.by import By\n",
    "import time\n",
    "\n",
    "URL =\"https://medium.com/sysf/bash-scripting-everything-you-need-to-know-about-bash-shell-programming-cd08595f2fba\"\n",
    "browser = webdriver.Chrome()\n",
    "browser.get(\"https://www.imdb.com/title/tt7366338/reviews?ref_=tt_urv\")\n",
    "\n",
    "\n",
    "# /html/body/div[1]/div/div[2]/div[1]/div[1]/section/div[2]/div[4]/div/button\n",
    "time.sleep(3)\n",
    "# loadBtn.click()\n",
    "# scroll_to_bottom(browser)\n",
    "# browser.window_handles\n",
    "# browser.page_source\n",
    "soup_selenium = BeautifulSoup(browser.page_source, 'html.parser')\n",
    "textReviews = soup_selenium.findAll(class_=\"header\")[1].span.text\n",
    "numReviews = int(textReviews[:textReviews.index(\"Reviews\")].replace(',',\"\"))\n",
    "reviewsPerPage = soup_selenium.find_all(\"span\", class_=\"rating-other-user-rating\")\n",
    "# while len(reviewsPerPage) < numReviews:\n",
    "#     time.sleep(3)\n",
    "#     loadBtn = browser.find_element(By.ID,\"load-more-trigger\")\n",
    "#     loadBtn.click()\n",
    "#     soup_selenium = BeautifulSoup(browser.page_source, 'html.parser')\n",
    "#     time.sleep(2)\n",
    "#     reviewsPerPage = soup_selenium.find_all(\"span\", class_=\"rating-other-user-rating\")\n"
   ]
  },
  {
   "cell_type": "code",
   "execution_count": null,
   "metadata": {},
   "outputs": [],
   "source": [
    "len(reviewsPerPage),numReviews\n"
   ]
  },
  {
   "cell_type": "code",
   "execution_count": null,
   "metadata": {},
   "outputs": [],
   "source": [
    "def scroll_to_bottom(driver):\n",
    "    #driver = self.browser\n",
    "    SCROLL_PAUSE_TIME = 0.5\n",
    "    # Get scroll height\n",
    "    last_height = driver.execute_script(\"return document.body.scrollHeight\")\n",
    " \n",
    "    while True:\n",
    "        # Scroll down to bottom\n",
    "        driver.execute_script(\"window.scrollTo(0, document.body.scrollHeight);\")\n",
    " \n",
    "        # Wait to load page\n",
    "        time.sleep(SCROLL_PAUSE_TIME)\n",
    " \n",
    "        # Calculate new scroll height and compare with last scroll height\n",
    "        new_height = driver.execute_script(\"return document.body.scrollHeight\")\n",
    "        if new_height == last_height:\n",
    "            break\n",
    "        last_height = new_height"
   ]
  },
  {
   "cell_type": "code",
   "execution_count": null,
   "metadata": {},
   "outputs": [],
   "source": [
    "import pyautogui\n",
    "# pyautogui.alert('This displays some text with an OK button.')\n",
    "# pyautogui.prompt('This lets the user type in a string and press OK.')\n",
    "pyautogui.screenshot()"
   ]
  },
  {
   "cell_type": "code",
   "execution_count": 29,
   "metadata": {},
   "outputs": [],
   "source": []
  },
  {
   "cell_type": "code",
   "execution_count": 28,
   "metadata": {},
   "outputs": [
    {
     "data": {
      "text/plain": [
       "102"
      ]
     },
     "execution_count": 28,
     "metadata": {},
     "output_type": "execute_result"
    }
   ],
   "source": [
    "import os\n",
    "  \n",
    "# Get the list of all files and directories\n",
    "# in the root directory\n",
    "# path = \"/\"\n",
    "dir_list = os.listdir(\"./Screenshots\")\n",
    "\n",
    "# n=os.path.realpath(\"./IMDB_reviews.ipynb\")\n",
    "# os.path.dirname(n)\n",
    "# import sys\n",
    "# print(sys.argv[0])\n",
    "# name= os.path.join(os.path.dirname(os.path.realpath(\"./IMDB_reviews.ipynb\")), 'Screenshotscrop',f'screen{countScroll}.png')\n",
    "# name\n"
   ]
  }
 ],
 "metadata": {
  "kernelspec": {
   "display_name": "Python 3.8.8 ('base')",
   "language": "python",
   "name": "python3"
  },
  "language_info": {
   "codemirror_mode": {
    "name": "ipython",
    "version": 3
   },
   "file_extension": ".py",
   "mimetype": "text/x-python",
   "name": "python",
   "nbconvert_exporter": "python",
   "pygments_lexer": "ipython3",
   "version": "3.8.8"
  },
  "orig_nbformat": 4,
  "vscode": {
   "interpreter": {
    "hash": "185416642dc7c7c5e781f0b980cfdc399d020e975ba7c5a86c3147036604a34a"
   }
  }
 },
 "nbformat": 4,
 "nbformat_minor": 2
}
